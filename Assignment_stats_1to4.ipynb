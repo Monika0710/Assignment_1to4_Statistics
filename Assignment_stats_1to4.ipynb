{
 "cells": [
  {
   "cell_type": "markdown",
   "metadata": {},
   "source": [
    "##### You survey households in your area to find the average rent they are paying. Find the\n",
    "#### standard deviation from the following data:\n",
    "#### $1550, $1700, $900, $850, $1000, $950"
   ]
  },
  {
   "cell_type": "code",
   "execution_count": 18,
   "metadata": {},
   "outputs": [
    {
     "name": "stdout",
     "output_type": "stream",
     "text": [
      "['$1550', '$1700', '$1500', '$900', '$850', '$1000', '$950']\n",
      "[1550, 1700, 1500, 900, 850, 1000, 950]\n",
      "The mean is 1207.14\n",
      "The mean is 1550\n",
      "The Std Deviation is 333.20\n"
     ]
    }
   ],
   "source": [
    "import numpy as np\n",
    "list_rent_new =list()\n",
    "list_Rent =['$1550', '$1700','$1500', '$900', '$850', '$1000', '$950']\n",
    "print(list_Rent)\n",
    "for i in list_Rent:\n",
    "    rent = int(i[1:])\n",
    "    list_rent_new.append(rent)\n",
    "    \n",
    "print(list_rent_new)\n",
    "mean =np.mean(list_rent_new)\n",
    "median =np.median(list_rent_new)\n",
    "mode =max(list_rent_new, key = list_rent_new.count)\n",
    "std =np.std(list_rent_new)\n",
    "print(\"The mean is {:.2f}\".format(mean))\n",
    "print(\"The mean is\",mode)\n",
    "print(\"The Std Deviation is {:.2f}\".format(std))\n"
   ]
  },
  {
   "cell_type": "markdown",
   "metadata": {},
   "source": [
    "##### Find the variance for the following set of data representing trees in California (heights in feet):\n",
    "3, 21, 98, 203, 17, 9"
   ]
  },
  {
   "cell_type": "code",
   "execution_count": 20,
   "metadata": {},
   "outputs": [
    {
     "name": "stdout",
     "output_type": "stream",
     "text": [
      "5183.25\n"
     ]
    }
   ],
   "source": [
    "import numpy as np\n",
    "Trees =[3,21,98,203,17,9]\n",
    "var =np.var(Trees)\n",
    "print(var)"
   ]
  },
  {
   "cell_type": "markdown",
   "metadata": {},
   "source": [
    "##### In a class on 100 students, 80 students passed in all subjects, 10 failed in one subject, 7 failed in two subjects and 3 failed in three subjects. Find the probability distribution of the variable for number of subjects a student from the given class has failed in."
   ]
  },
  {
   "cell_type": "code",
   "execution_count": null,
   "metadata": {},
   "outputs": [],
   "source": [
    "NA"
   ]
  },
  {
   "cell_type": "markdown",
   "metadata": {},
   "source": [
    "#### A test is conducted which is consisting of 20 MCQs (multiple choices questions) with every MCQ having its four options out of which only one is correct. Determine the probability that a person undertaking that test has answered exactly 5 questions wrong."
   ]
  },
  {
   "cell_type": "code",
   "execution_count": 22,
   "metadata": {},
   "outputs": [
    {
     "name": "stdout",
     "output_type": "stream",
     "text": [
      "3.4264958230778435e-06\n"
     ]
    }
   ],
   "source": [
    "from scipy import stats\n",
    "import scipy\n",
    "\n",
    "### Binomial\n",
    "## Example 1\n",
    "print(stats.binom.pmf(5, 20, 3/4))"
   ]
  },
  {
   "cell_type": "markdown",
   "metadata": {},
   "source": [
    "##### A die marked A to E is rolled 50 times. Find the probability of getting a “D” exactly 5 times."
   ]
  },
  {
   "cell_type": "code",
   "execution_count": 23,
   "metadata": {},
   "outputs": [
    {
     "name": "stdout",
     "output_type": "stream",
     "text": [
      "0.029531204310523224\n"
     ]
    }
   ],
   "source": [
    "from scipy import stats\n",
    "import scipy\n",
    "\n",
    "### Binomial\n",
    "## Example 1\n",
    "print(stats.binom.pmf(5, 50, 1/5))"
   ]
  },
  {
   "cell_type": "markdown",
   "metadata": {},
   "source": [
    "#####  Two balls are drawn at random in succession without replacement from an urn containing 4 red balls and 6 black balls. Find the probabilities of all the possible outcomes."
   ]
  },
  {
   "cell_type": "code",
   "execution_count": 9,
   "metadata": {},
   "outputs": [
    {
     "name": "stdout",
     "output_type": "stream",
     "text": [
      "First condition when both the balls are red 0.13\n",
      "First condition when first ball is  red and second one is black  0.27\n",
      "First condition when first one is black and second one is red 0.27\n",
      "First condition when both the balls are black 0.333\n"
     ]
    }
   ],
   "source": [
    "from scipy import stats \n",
    "\n",
    "print (\"First condition when both the balls are red {:.2f}\".format(4/10*3/9))\n",
    "print (\"First condition when first ball is  red and second one is black  {:.2f}\".format(4/10*6/9))\n",
    "print (\"First condition when first one is black and second one is red {:.2f}\".format(6/10*4/9))\n",
    "print (\"First condition when both the balls are black {:.3f}\".format(6/10*5/9))\n"
   ]
  },
  {
   "cell_type": "code",
   "execution_count": 11,
   "metadata": {},
   "outputs": [
    {
     "data": {
      "text/plain": [
       "0.7733726476231317"
      ]
     },
     "execution_count": 11,
     "metadata": {},
     "output_type": "execute_result"
    }
   ],
   "source": [
    "from scipy import stats \n",
    "stats.norm.cdf(0.75)"
   ]
  },
  {
   "cell_type": "markdown",
   "metadata": {},
   "source": [
    "##### Blood glucose levels for obese patients have a mean of 100 with a standard deviation of 15. A researcher thinks that a diet high in raw cornstarch will have a positive effect on blood glucose levels. A sample of 36 patients who have tried the raw cornstarch diet have a mean glucose level of 108. Test the hypothesis that the raw cornstarch had an effect or not."
   ]
  },
  {
   "cell_type": "code",
   "execution_count": 8,
   "metadata": {},
   "outputs": [
    {
     "name": "stdout",
     "output_type": "stream",
     "text": [
      "The Z value is 3.200\n",
      "The critical Values are 1.6448536269514722\n",
      "Null Hypothesis is rejected in this case \n"
     ]
    }
   ],
   "source": [
    "#mu =100\n",
    "#std dev =15\n",
    "#n =36\n",
    "\n",
    "#X bar =108\n",
    "\n",
    "#Ho mu =100\n",
    "#Ha mu > 100\n",
    "\n",
    "### This is one sided hypothesis testing as GLucose level need to be proved as increased .\n",
    "\n",
    "import math\n",
    "from scipy import stats \n",
    "\n",
    "## Since n >30 <We'll go for Z distribution\n",
    "\n",
    "## CAlculating Test Statistics\n",
    "Z = ((108-100)/(15/math.sqrt(36)))\n",
    "\n",
    "print(\"The Z value is {:.3f}\".format(Z))\n",
    "\n",
    "### Considering Significance level as 5%\n",
    "\n",
    "print(\"The critical Values are {}\".format(stats.norm.ppf(0.95)))\n",
    "\n",
    "print(\"Null Hypothesis is rejected in this case \")\n",
    "\n",
    "\n"
   ]
  },
  {
   "cell_type": "code",
   "execution_count": null,
   "metadata": {},
   "outputs": [],
   "source": []
  },
  {
   "cell_type": "code",
   "execution_count": null,
   "metadata": {},
   "outputs": [],
   "source": []
  }
 ],
 "metadata": {
  "kernelspec": {
   "display_name": "Python 3",
   "language": "python",
   "name": "python3"
  },
  "language_info": {
   "codemirror_mode": {
    "name": "ipython",
    "version": 3
   },
   "file_extension": ".py",
   "mimetype": "text/x-python",
   "name": "python",
   "nbconvert_exporter": "python",
   "pygments_lexer": "ipython3",
   "version": "3.7.1"
  }
 },
 "nbformat": 4,
 "nbformat_minor": 2
}
